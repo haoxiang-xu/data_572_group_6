{
 "cells": [
  {
   "cell_type": "markdown",
   "id": "338722f8-3b8b-48a3-bdf9-1afd17d5618a",
   "metadata": {},
   "source": [
    "# Project"
   ]
  },
  {
   "cell_type": "code",
   "execution_count": 1,
   "id": "7752b68b-5f47-4a6d-9a36-543604b0db38",
   "metadata": {},
   "outputs": [],
   "source": [
    "import numpy as np\n",
    "import pandas as pd\n",
    "import seaborn as sns\n",
    "import matplotlib.pyplot as plt\n",
    "from sklearn.model_selection import KFold, GridSearchCV\n",
    "from sklearn.ensemble import RandomForestClassifier\n",
    "from sklearn.metrics import classification_report, accuracy_score, confusion_matrix, ConfusionMatrixDisplay"
   ]
  },
  {
   "cell_type": "markdown",
   "id": "00cb474d-72ba-4bb0-9e92-b6c50b20067e",
   "metadata": {},
   "source": [
    "## Load and preprocess data:"
   ]
  },
  {
   "cell_type": "code",
   "execution_count": 3,
   "id": "2a4e9dc4-95e8-44b5-bc7d-ec212772b1cf",
   "metadata": {},
   "outputs": [
    {
     "data": {
      "text/html": [
       "<div>\n",
       "<style scoped>\n",
       "    .dataframe tbody tr th:only-of-type {\n",
       "        vertical-align: middle;\n",
       "    }\n",
       "\n",
       "    .dataframe tbody tr th {\n",
       "        vertical-align: top;\n",
       "    }\n",
       "\n",
       "    .dataframe thead th {\n",
       "        text-align: right;\n",
       "    }\n",
       "</style>\n",
       "<table border=\"1\" class=\"dataframe\">\n",
       "  <thead>\n",
       "    <tr style=\"text-align: right;\">\n",
       "      <th></th>\n",
       "      <th>pH</th>\n",
       "      <th>Temprature</th>\n",
       "      <th>Taste</th>\n",
       "      <th>Odor</th>\n",
       "      <th>Fat</th>\n",
       "      <th>Turbidity</th>\n",
       "      <th>Colour</th>\n",
       "      <th>Grade</th>\n",
       "    </tr>\n",
       "  </thead>\n",
       "  <tbody>\n",
       "    <tr>\n",
       "      <th>0</th>\n",
       "      <td>6.6</td>\n",
       "      <td>35</td>\n",
       "      <td>1</td>\n",
       "      <td>0</td>\n",
       "      <td>1</td>\n",
       "      <td>0</td>\n",
       "      <td>254</td>\n",
       "      <td>high</td>\n",
       "    </tr>\n",
       "    <tr>\n",
       "      <th>1</th>\n",
       "      <td>6.6</td>\n",
       "      <td>36</td>\n",
       "      <td>0</td>\n",
       "      <td>1</td>\n",
       "      <td>0</td>\n",
       "      <td>1</td>\n",
       "      <td>253</td>\n",
       "      <td>high</td>\n",
       "    </tr>\n",
       "    <tr>\n",
       "      <th>2</th>\n",
       "      <td>8.5</td>\n",
       "      <td>70</td>\n",
       "      <td>1</td>\n",
       "      <td>1</td>\n",
       "      <td>1</td>\n",
       "      <td>1</td>\n",
       "      <td>246</td>\n",
       "      <td>low</td>\n",
       "    </tr>\n",
       "    <tr>\n",
       "      <th>3</th>\n",
       "      <td>9.5</td>\n",
       "      <td>34</td>\n",
       "      <td>1</td>\n",
       "      <td>1</td>\n",
       "      <td>0</td>\n",
       "      <td>1</td>\n",
       "      <td>255</td>\n",
       "      <td>low</td>\n",
       "    </tr>\n",
       "    <tr>\n",
       "      <th>4</th>\n",
       "      <td>6.6</td>\n",
       "      <td>37</td>\n",
       "      <td>0</td>\n",
       "      <td>0</td>\n",
       "      <td>0</td>\n",
       "      <td>0</td>\n",
       "      <td>255</td>\n",
       "      <td>medium</td>\n",
       "    </tr>\n",
       "  </tbody>\n",
       "</table>\n",
       "</div>"
      ],
      "text/plain": [
       "    pH  Temprature  Taste  Odor  Fat   Turbidity  Colour   Grade\n",
       "0  6.6          35      1     0     1          0     254    high\n",
       "1  6.6          36      0     1     0          1     253    high\n",
       "2  8.5          70      1     1     1          1     246     low\n",
       "3  9.5          34      1     1     0          1     255     low\n",
       "4  6.6          37      0     0     0          0     255  medium"
      ]
     },
     "execution_count": 3,
     "metadata": {},
     "output_type": "execute_result"
    }
   ],
   "source": [
    "df = pd.read_csv(\"milknew.csv\")\n",
    "df.head()"
   ]
  },
  {
   "cell_type": "code",
   "execution_count": 5,
   "id": "65a19230-5773-4672-8a11-8f765fdd9624",
   "metadata": {},
   "outputs": [
    {
     "name": "stdout",
     "output_type": "stream",
     "text": [
      "<class 'pandas.core.frame.DataFrame'>\n",
      "RangeIndex: 1059 entries, 0 to 1058\n",
      "Data columns (total 8 columns):\n",
      " #   Column       Non-Null Count  Dtype  \n",
      "---  ------       --------------  -----  \n",
      " 0   pH           1059 non-null   float64\n",
      " 1   Temperature  1059 non-null   int64  \n",
      " 2   Taste        1059 non-null   int64  \n",
      " 3   Odor         1059 non-null   int64  \n",
      " 4   Fat          1059 non-null   int64  \n",
      " 5   Turbidity    1059 non-null   int64  \n",
      " 6   Colour       1059 non-null   int64  \n",
      " 7   Grade        1059 non-null   object \n",
      "dtypes: float64(1), int64(6), object(1)\n",
      "memory usage: 66.3+ KB\n"
     ]
    }
   ],
   "source": [
    "df.rename(columns={'Temprature':'Temperature'}, inplace=True)\n",
    "df.info()"
   ]
  },
  {
   "cell_type": "code",
   "execution_count": 7,
   "id": "84bd45b4-b5b8-4436-995c-95b40d64f514",
   "metadata": {},
   "outputs": [],
   "source": [
    "X = df.drop('Grade', axis=1)\n",
    "y = df['Grade']"
   ]
  },
  {
   "cell_type": "markdown",
   "id": "33320841-4c20-42a9-bb50-803df1fd77a7",
   "metadata": {},
   "source": [
    "## Data Resampling and Model Building:"
   ]
  },
  {
   "cell_type": "code",
   "execution_count": 21,
   "id": "c4c6709a-39c4-473d-a84e-3f198694ff96",
   "metadata": {},
   "outputs": [
    {
     "name": "stdout",
     "output_type": "stream",
     "text": [
      "Fitting 5 folds for each of 72 candidates, totalling 360 fits\n",
      "Fitting 5 folds for each of 72 candidates, totalling 360 fits\n",
      "Fitting 5 folds for each of 72 candidates, totalling 360 fits\n",
      "Fitting 5 folds for each of 72 candidates, totalling 360 fits\n",
      "Fitting 5 folds for each of 72 candidates, totalling 360 fits\n"
     ]
    }
   ],
   "source": [
    "kf = KFold(n_splits = 5, shuffle = True, random_state = 1)\n",
    "rf_model = RandomForestClassifier(random_state = 1)\n",
    "accuracy_ls, class_ls, disp_ls, feature_ls = [], [], [], []\n",
    "\n",
    "for train_index, test_index in kf.split(X):\n",
    "    X_train, X_test = X.iloc[train_index], X.iloc[test_index]\n",
    "    y_train, y_test = y.iloc[train_index], y.iloc[test_index]\n",
    "\n",
    "    param_grid = {\n",
    "    'n_estimators': [50, 100, 200], \n",
    "    'max_depth': [None, 10, 20, 30], \n",
    "    'min_samples_split': [2, 5, 10], \n",
    "    'bootstrap': [True, False]\n",
    "    }\n",
    "    grid_search = GridSearchCV(estimator = rf_model, param_grid = param_grid, n_jobs = -1, verbose = 1, scoring = 'accuracy')\n",
    "    grid_search.fit(X_train, y_train)\n",
    "    best_model = grid_search.best_estimator_\n",
    "\n",
    "    y_pred = best_model.predict(X_test)\n",
    "    accuracy = accuracy_score(y_test, y_pred)\n",
    "    class_re = classification_report(y_test, y_pred)\n",
    "    importance = best_model.feature_importances_\n",
    "    cm = confusion_matrix(y_test, y_pred)\n",
    "    disp = ConfusionMatrixDisplay(confusion_matrix = cm)\n",
    "\n",
    "    accuracy_ls.append(accuracy)\n",
    "    class_ls.append(class_re)\n",
    "    disp_ls.append(disp)\n",
    "    feature_ls.append(importance)"
   ]
  },
  {
   "cell_type": "markdown",
   "id": "5c6cc887-4fec-4a19-a944-7db6370c0e65",
   "metadata": {},
   "source": [
    "## Results and Plots"
   ]
  },
  {
   "cell_type": "code",
   "execution_count": 25,
   "id": "4e0396bd-6183-4653-83db-acddab807457",
   "metadata": {},
   "outputs": [
    {
     "name": "stdout",
     "output_type": "stream",
     "text": [
      "The accuracy score of the first model is: 1.0\n",
      "Classification Report:\n",
      "               precision    recall  f1-score   support\n",
      "\n",
      "        high       1.00      1.00      1.00        44\n",
      "         low       1.00      1.00      1.00        92\n",
      "      medium       1.00      1.00      1.00        76\n",
      "\n",
      "    accuracy                           1.00       212\n",
      "   macro avg       1.00      1.00      1.00       212\n",
      "weighted avg       1.00      1.00      1.00       212\n",
      "\n",
      "Feature Importances:\n",
      " [0.40149421 0.2194405  0.04491461 0.08585385 0.08973682 0.08803807\n",
      " 0.07052193]\n"
     ]
    },
    {
     "data": {
      "text/plain": [
       "<sklearn.metrics._plot.confusion_matrix.ConfusionMatrixDisplay at 0x138823bf0>"
      ]
     },
     "execution_count": 25,
     "metadata": {},
     "output_type": "execute_result"
    },
    {
     "data": {
      "image/png": "[encoded data removed]",
      "text/plain": [
       "<Figure size 640x480 with 2 Axes>"
      ]
     },
     "metadata": {},
     "output_type": "display_data"
    }
   ],
   "source": [
    "print(\"The accuracy score of the first model is:\", accuracy_ls[0])\n",
    "print(\"Classification Report:\\n\", class_ls[0])\n",
    "print(\"Feature Importances:\\n\", feature_ls[0])\n",
    "disp_ls[0].plot()"
   ]
  },
  {
   "cell_type": "code",
   "execution_count": 27,
   "id": "101893f0-5db4-4853-b287-bef5c991fc4e",
   "metadata": {},
   "outputs": [
    {
     "name": "stdout",
     "output_type": "stream",
     "text": [
      "The accuracy score of the second model is: 1.0\n",
      "Classification Report:\n",
      "               precision    recall  f1-score   support\n",
      "\n",
      "        high       1.00      1.00      1.00        56\n",
      "         low       1.00      1.00      1.00        91\n",
      "      medium       1.00      1.00      1.00        65\n",
      "\n",
      "    accuracy                           1.00       212\n",
      "   macro avg       1.00      1.00      1.00       212\n",
      "weighted avg       1.00      1.00      1.00       212\n",
      "\n",
      "Feature Importances:\n",
      " [0.39602436 0.21453448 0.04668833 0.08297475 0.08877069 0.09084261\n",
      " 0.08016478]\n"
     ]
    },
    {
     "data": {
      "text/plain": [
       "<sklearn.metrics._plot.confusion_matrix.ConfusionMatrixDisplay at 0x1388213d0>"
      ]
     },
     "execution_count": 27,
     "metadata": {},
     "output_type": "execute_result"
    },
    {
     "data": {
      "image/png": "[encoded data removed]",
      "text/plain": [
       "<Figure size 640x480 with 2 Axes>"
      ]
     },
     "metadata": {},
     "output_type": "display_data"
    }
   ],
   "source": [
    "print(\"The accuracy score of the second model is:\", accuracy_ls[1])\n",
    "print(\"Classification Report:\\n\", class_ls[1])\n",
    "print(\"Feature Importances:\\n\", feature_ls[1])\n",
    "disp_ls[1].plot()"
   ]
  },
  {
   "cell_type": "code",
   "execution_count": 29,
   "id": "264beecd-7f71-48cb-98f9-f3c1e8a0e314",
   "metadata": {},
   "outputs": [
    {
     "name": "stdout",
     "output_type": "stream",
     "text": [
      "The accuracy score of the third model is: 0.9952830188679245\n",
      "Classification Report:\n",
      "               precision    recall  f1-score   support\n",
      "\n",
      "        high       0.98      1.00      0.99        53\n",
      "         low       1.00      0.99      0.99        74\n",
      "      medium       1.00      1.00      1.00        85\n",
      "\n",
      "    accuracy                           1.00       212\n",
      "   macro avg       0.99      1.00      0.99       212\n",
      "weighted avg       1.00      1.00      1.00       212\n",
      "\n",
      "Feature Importances:\n",
      " [0.4172309  0.22513699 0.04456696 0.07252515 0.08763406 0.09033006\n",
      " 0.06257588]\n"
     ]
    },
    {
     "data": {
      "text/plain": [
       "<sklearn.metrics._plot.confusion_matrix.ConfusionMatrixDisplay at 0x138793380>"
      ]
     },
     "execution_count": 29,
     "metadata": {},
     "output_type": "execute_result"
    },
    {
     "data": {
      "image/png": "[encoded data removed]",
      "text/plain": [
       "<Figure size 640x480 with 2 Axes>"
      ]
     },
     "metadata": {},
     "output_type": "display_data"
    }
   ],
   "source": [
    "print(\"The accuracy score of the third model is:\", accuracy_ls[2])\n",
    "print(\"Classification Report:\\n\", class_ls[2])\n",
    "print(\"Feature Importances:\\n\", feature_ls[2])\n",
    "disp_ls[2].plot()"
   ]
  },
  {
   "cell_type": "code",
   "execution_count": 31,
   "id": "8a041835-4bb9-40d6-a4e4-c375ace0ad95",
   "metadata": {},
   "outputs": [
    {
     "name": "stdout",
     "output_type": "stream",
     "text": [
      "The accuracy score of the fourth model is: 0.9952830188679245\n",
      "Classification Report:\n",
      "               precision    recall  f1-score   support\n",
      "\n",
      "        high       1.00      0.98      0.99        55\n",
      "         low       1.00      1.00      1.00        81\n",
      "      medium       0.99      1.00      0.99        76\n",
      "\n",
      "    accuracy                           1.00       212\n",
      "   macro avg       1.00      0.99      0.99       212\n",
      "weighted avg       1.00      1.00      1.00       212\n",
      "\n",
      "Feature Importances:\n",
      " [0.39649601 0.23597472 0.04876469 0.071687   0.08601068 0.08736945\n",
      " 0.07369745]\n"
     ]
    },
    {
     "data": {
      "text/plain": [
       "<sklearn.metrics._plot.confusion_matrix.ConfusionMatrixDisplay at 0x1388d0050>"
      ]
     },
     "execution_count": 31,
     "metadata": {},
     "output_type": "execute_result"
    },
    {
     "data": {
      "image/png": "[encoded data removed]",
      "text/plain": [
       "<Figure size 640x480 with 2 Axes>"
      ]
     },
     "metadata": {},
     "output_type": "display_data"
    }
   ],
   "source": [
    "print(\"The accuracy score of the fourth model is:\", accuracy_ls[3])\n",
    "print(\"Classification Report:\\n\", class_ls[3])\n",
    "print(\"Feature Importances:\\n\", feature_ls[3])\n",
    "disp_ls[3].plot()"
   ]
  },
  {
   "cell_type": "code",
   "execution_count": 33,
   "id": "dff38a21-d4af-4f68-9e34-6f98403edc66",
   "metadata": {},
   "outputs": [
    {
     "name": "stdout",
     "output_type": "stream",
     "text": [
      "The accuracy score of the fifth model is: 1.0\n",
      "Classification Report:\n",
      "               precision    recall  f1-score   support\n",
      "\n",
      "        high       1.00      1.00      1.00        48\n",
      "         low       1.00      1.00      1.00        91\n",
      "      medium       1.00      1.00      1.00        72\n",
      "\n",
      "    accuracy                           1.00       211\n",
      "   macro avg       1.00      1.00      1.00       211\n",
      "weighted avg       1.00      1.00      1.00       211\n",
      "\n",
      "Feature Importances:\n",
      " [0.37535485 0.24104793 0.05350632 0.07518829 0.08934493 0.09410493\n",
      " 0.07145276]\n"
     ]
    },
    {
     "data": {
      "text/plain": [
       "<sklearn.metrics._plot.confusion_matrix.ConfusionMatrixDisplay at 0x1387916a0>"
      ]
     },
     "execution_count": 33,
     "metadata": {},
     "output_type": "execute_result"
    },
    {
     "data": {
      "image/png": "[encoded data removed]",
      "text/plain": [
       "<Figure size 640x480 with 2 Axes>"
      ]
     },
     "metadata": {},
     "output_type": "display_data"
    }
   ],
   "source": [
    "print(\"The accuracy score of the fifth model is:\", accuracy_ls[4])\n",
    "print(\"Classification Report:\\n\", class_ls[4])\n",
    "print(\"Feature Importances:\\n\", feature_ls[4])\n",
    "disp_ls[4].plot()"
   ]
  },
  {
   "cell_type": "markdown",
   "id": "44c29195-7410-4672-93c6-92911da67243",
   "metadata": {},
   "source": [
    "According to the feature importances, the feature \"pH\" is the most important feature among all features."
   ]
  }
 ],
 "metadata": {
  "kernelspec": {
   "display_name": "Python [conda env:base] *",
   "language": "python",
   "name": "conda-base-py"
  },
  "language_info": {
   "codemirror_mode": {
    "name": "ipython",
    "version": 3
   },
   "file_extension": ".py",
   "mimetype": "text/x-python",
   "name": "python",
   "nbconvert_exporter": "python",
   "pygments_lexer": "ipython3",
   "version": "3.12.2"
  }
 },
 "nbformat": 4,
 "nbformat_minor": 5
}
